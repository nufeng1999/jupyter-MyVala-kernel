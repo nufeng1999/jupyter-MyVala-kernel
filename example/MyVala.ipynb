{
 "cells": [
  {
   "cell_type": "code",
   "execution_count": 13,
   "id": "123d0ac8-3397-4c2a-b7c8-65b96c728c7a",
   "metadata": {},
   "outputs": [
    {
     "data": {
      "text/html": [
       "<div><pre style=\"&#102;&#111;&#110;&#116;&#45;&#102;&#97;&#109;&#105;&#108;&#121;&#58;&#32;&#34;&#67;&#111;&#117;&#114;&#105;&#101;&#114;&#32;&#78;&#101;&#119;&#34;&#44;&#67;&#111;&#117;&#114;&#105;&#101;&#114;&#44;&#109;&#111;&#110;&#111;&#115;&#112;&#97;&#99;&#101;&#59;\">&#45;&#45;&#45;&#45;&#45;&#45;&#45;&#45;&#36825;&#26159;&#27979;&#35797;&#45;&#45;&#45;&#45;&#45;&#45;&#45;&#45;&#45;&#45;</pre></div>"
      ],
      "text/plain": [
       "--------这是测试----------"
      ]
     },
     "execution_count": 13,
     "metadata": {
      "text/html": [],
      "text/plain": []
     },
     "output_type": "execute_result"
    }
   ],
   "source": [
    "\"--------这是测试----------\""
   ]
  },
  {
   "cell_type": "code",
   "execution_count": 4,
   "id": "15ef7a8f-2fec-43cf-90d6-ea795dc252c2",
   "metadata": {},
   "outputs": [
    {
     "data": {
      "text/html": [
       "<div><pre style=\"&#102;&#111;&#110;&#116;&#45;&#102;&#97;&#109;&#105;&#108;&#121;&#58;&#32;&#34;&#67;&#111;&#117;&#114;&#105;&#101;&#114;&#32;&#78;&#101;&#119;&#34;&#44;&#67;&#111;&#117;&#114;&#105;&#101;&#114;&#44;&#109;&#111;&#110;&#111;&#115;&#112;&#97;&#99;&#101;&#59;\">&#49;&#48;</pre></div>"
      ],
      "text/plain": [
       "10"
      ]
     },
     "execution_count": 4,
     "metadata": {
      "text/html": [],
      "text/plain": []
     },
     "output_type": "execute_result"
    }
   ],
   "source": [
    "5+5"
   ]
  },
  {
   "cell_type": "code",
   "execution_count": 8,
   "id": "3179f4d2-77d7-4a60-ae73-58fd85bc2632",
   "metadata": {},
   "outputs": [
    {
     "name": "stdout",
     "output_type": "stream",
     "text": [
      "-Graphics-\n"
     ]
    }
   ],
   "source": [
    "Print[Graphics[Circle[]]]"
   ]
  },
  {
   "cell_type": "code",
   "execution_count": 14,
   "id": "838ce56b-b7b2-4bd0-a8b6-450f4e1a1056",
   "metadata": {},
   "outputs": [
    {
     "name": "stdout",
     "output_type": "stream",
     "text": [
      "2\n",
      "3\n",
      "5\n",
      "7\n",
      "11\n"
     ]
    }
   ],
   "source": [
    "Do[Print[Prime[n]], {n, 5}]"
   ]
  },
  {
   "cell_type": "code",
   "execution_count": 15,
   "id": "abda51e8-55f9-45a0-a81c-e3db3bbc0669",
   "metadata": {},
   "outputs": [
    {
     "name": "stdout",
     "output_type": "stream",
     "text": [
      "PasteButton[xyz]\n"
     ]
    }
   ],
   "source": [
    "Print[PasteButton[\"xyz\"]]"
   ]
  },
  {
   "cell_type": "code",
   "execution_count": 16,
   "id": "adb6c8ec-1ee7-4628-9bb5-0e07deeacb9b",
   "metadata": {},
   "outputs": [
    {
     "data": {
      "text/html": [
       "<div><img alt=\"Output\" src=\"data:image/png;base64,iVBORw0KGgoAAAANSUhEUgAAACgAAAAwCAIAAADsGa/MAAAAz3pUWHRSYXcgcHJvZmlsZSB0eXBlIGV4aWYAAHjabU9BDsQgCLz7in0Cgg76HNvaZH+wz1+othuTnUQYhwE09M/7DC8HRwopa0EFyJBqqtyMFBoYOVK94gW+a3HVg9x6Myn/CuhT31Zd8QxcBxEPIr7BuKTZMAcJDz22cd+mn1sp66D7qROVnqf/vSdRRkbUZDExqaIaL8GoJWSmrDixA2aMOJjSbrlD1dqg7pDmjQ7uurp7gJhw+BfET5RmWS2yrXaFjedLEam8WbVcHv/OFxUCWp7a19LDAAAACXBIWXMAABYlAAAWJQFJUiTwAAAAPHRFWHRTb2Z0d2FyZQBDcmVhdGVkIHdpdGggdGhlIFdvbGZyYW0gTGFuZ3VhZ2UgOiB3d3cud29sZnJhbS5jb21coqaFAAAAIXRFWHRDcmVhdGlvbiBUaW1lADIwMjE6MDc6MjcgMjI6NTc6MzneyFUOAAADhElEQVRYhe2XPUjrXBjHT2KNRbRUjoIWVNDXQjF+tL4giOJqhw4iqRQcdBF0UETN0EEdVVAc3OqgQ9shOIoOQifxYyhGEMFKBqXyamljbU9abfXcIRp6ubZ+XG4Kr/e3hPOc5zx//k+eJITAGIN8QOZFFQCgAQCcnJyIohgKhVTQq6iogBDSNE3wPJ9KpSwWiwqqMn6/n6IoUhRFNVUBABaLJRKJaEKhkPrzFQqF8jZceZ3qvDzKfx2rhka+qGmaIAiQR8f5Hi715+uv4/+/8PdrdVbHd3d34XC4pqamsLBQjgiCoNfrRVGsqqoqLi5WMoPBoE6nE0UxlUplVoAQ6vX6bMJZHd/c3LS1tS0sLMhLj8fT3d2dTCY7OzuXl5eVNIRQa2vr5eWlzWb79xWz2dzU1OR2u3NZ5jgukUhIb+F0OimKOj4+vrq6ghCur69LkjQ4OFhXV6fkuFwumqYzT8Xj8a6uLqPRGA6H3yybSCQ4jiOVVv/K1NRUbW3t2NjY5ORke3s7wzAYY7vdLgjC0dGRnON2ux0OR+aplZWV/f39tbU1rVabrfKLY0mSUBZ2dnYAADqdLhAIyJFYLGYwGEZGRhBCgUBAo9Gcn58r+YeHhxRFOZ3ObAURQpIkveMYY2w2m8vLy9Pp9MPDgxwhCKKvr29zczOdTnu93o6ODoPBIG8lk8mhoSGaplmWzVFTdvzO4zQ7O1tdXV1WVjYxMaEE7Xb77e2tz+fzer39/f2ZyYIguFwujUaTu+xLqxFC8bfY3d0tKio6ODjweDwAgI2NDWXLaDS2tLRotdrr62s5srW1RRDE4uLim6UyQQjlanUymRwdHR0fH29sbLTZbFarlWXZaDQq7zIMw/N8T09PaWkpxjgajQ4PD5vN5t7e3v9eQQh9pdXz8/MAAJZl5eXS0lIsFpuZmZGXDMMAAJQ+n56eBoNBv9/f0NDwzyurq6s5Ok1wHGe1Wp+fn9+/Kxns7e05HI6LiwuKoj51EABAkuT29vZX3tX39/dzc3MDAwNfUFX49NepsrLy6empvr5+enr646cykU99YO5/xufzPT4+0jRdUFDwBVWFTwubTKbf0ftJ+FOt/n0+9Ob6c3w/x9+w1RBCjDFJqmSdJEmMMYSQ4Hk+Ho+bTCb5t/VPgzE+OzsrKSkhMMY8z0cikXA4rIIwhBBC2NzcTKh5dzPJ21T/ALGfInVcixgUAAAAAElFTkSuQmCC\"></div>"
      ],
      "text/plain": [
       "PasteButton[xyz]"
      ]
     },
     "execution_count": 16,
     "metadata": {
      "text/html": [],
      "text/plain": []
     },
     "output_type": "execute_result"
    }
   ],
   "source": [
    "PasteButton[\"xyz\"]"
   ]
  },
  {
   "cell_type": "code",
   "execution_count": 17,
   "id": "ac67d681-68b8-4733-a6e5-040bf6a78c06",
   "metadata": {},
   "outputs": [
    {
     "name": "stdout",
     "output_type": "stream",
     "text": [
      "x\n"
     ]
    },
    {
     "data": {
      "text/html": [
       "<div><pre style=\"&#102;&#111;&#110;&#116;&#45;&#102;&#97;&#109;&#105;&#108;&#121;&#58;&#32;&#34;&#67;&#111;&#117;&#114;&#105;&#101;&#114;&#32;&#78;&#101;&#119;&#34;&#44;&#67;&#111;&#117;&#114;&#105;&#101;&#114;&#44;&#109;&#111;&#110;&#111;&#115;&#112;&#97;&#99;&#101;&#59;\">&#78;&#117;&#108;&#108;</pre></div>"
      ],
      "text/plain": [
       "Null"
      ]
     },
     "execution_count": 17,
     "metadata": {
      "text/html": [],
      "text/plain": []
     },
     "output_type": "execute_result"
    }
   ],
   "source": [
    "Print[x] // InputForm"
   ]
  },
  {
   "cell_type": "code",
   "execution_count": 20,
   "id": "e926feb7-9a0c-4f35-a17f-f34f30f4c288",
   "metadata": {},
   "outputs": [
    {
     "data": {
      "text/html": [
       "<div><pre style=\"&#102;&#111;&#110;&#116;&#45;&#102;&#97;&#109;&#105;&#108;&#121;&#58;&#32;&#34;&#67;&#111;&#117;&#114;&#105;&#101;&#114;&#32;&#78;&#101;&#119;&#34;&#44;&#67;&#111;&#117;&#114;&#105;&#101;&#114;&#44;&#109;&#111;&#110;&#111;&#115;&#112;&#97;&#99;&#101;&#59;\">&#34;&#36825;&#26159;&#32;&#105;&#115;&#32;&#97;&#32;&#115;&#116;&#114;&#105;&#110;&#103;&#34;</pre></div>"
      ],
      "text/plain": [
       "\"这是 is a string\""
      ]
     },
     "execution_count": 20,
     "metadata": {
      "text/html": [],
      "text/plain": []
     },
     "output_type": "execute_result"
    }
   ],
   "source": [
    "InputForm[\"这是 is a string\"]"
   ]
  },
  {
   "cell_type": "code",
   "execution_count": 34,
   "id": "5887e2c2-5c1e-4c68-8428-8a2a8fbad2d2",
   "metadata": {},
   "outputs": [
    {
     "data": {
      "text/html": [
       "<div><pre style=\"&#102;&#111;&#110;&#116;&#45;&#102;&#97;&#109;&#105;&#108;&#121;&#58;&#32;&#34;&#67;&#111;&#117;&#114;&#105;&#101;&#114;&#32;&#78;&#101;&#119;&#34;&#44;&#67;&#111;&#117;&#114;&#105;&#101;&#114;&#44;&#109;&#111;&#110;&#111;&#115;&#112;&#97;&#99;&#101;&#59;\">&#123;&#65;&#100;&#111;&#98;&#101;&#83;&#116;&#97;&#110;&#100;&#97;&#114;&#100;&#44;&#32;&#65;&#83;&#67;&#73;&#73;&#44;&#32;&#67;&#80;&#57;&#51;&#54;&#44;&#32;&#67;&#80;&#57;&#52;&#57;&#44;&#32;&#67;&#80;&#57;&#53;&#48;&#44;&#32;&#69;&#85;&#67;&#45;&#74;&#80;&#44;&#32;&#69;&#85;&#67;&#44;&#32;&#73;&#66;&#77;&#45;&#56;&#53;&#48;&#44;&#32;&#73;&#83;&#79;&#56;&#56;&#53;&#57;&#45;&#49;&#48;&#44;&#32;&#10;&#32;&#10;&#62;&#32;&#32;&#32;&#73;&#83;&#79;&#56;&#56;&#53;&#57;&#45;&#49;&#49;&#44;&#32;&#73;&#83;&#79;&#56;&#56;&#53;&#57;&#45;&#49;&#51;&#44;&#32;&#73;&#83;&#79;&#56;&#56;&#53;&#57;&#45;&#49;&#52;&#44;&#32;&#73;&#83;&#79;&#56;&#56;&#53;&#57;&#45;&#49;&#53;&#44;&#32;&#73;&#83;&#79;&#56;&#56;&#53;&#57;&#45;&#49;&#54;&#44;&#32;&#73;&#83;&#79;&#56;&#56;&#53;&#57;&#45;&#49;&#44;&#32;&#73;&#83;&#79;&#56;&#56;&#53;&#57;&#45;&#50;&#44;&#32;&#10;&#32;&#10;&#62;&#32;&#32;&#32;&#73;&#83;&#79;&#56;&#56;&#53;&#57;&#45;&#51;&#44;&#32;&#73;&#83;&#79;&#56;&#56;&#53;&#57;&#45;&#52;&#44;&#32;&#73;&#83;&#79;&#56;&#56;&#53;&#57;&#45;&#53;&#44;&#32;&#73;&#83;&#79;&#56;&#56;&#53;&#57;&#45;&#54;&#44;&#32;&#73;&#83;&#79;&#56;&#56;&#53;&#57;&#45;&#55;&#44;&#32;&#73;&#83;&#79;&#56;&#56;&#53;&#57;&#45;&#56;&#44;&#32;&#73;&#83;&#79;&#56;&#56;&#53;&#57;&#45;&#57;&#44;&#32;&#10;&#32;&#10;&#62;&#32;&#32;&#32;&#73;&#83;&#79;&#76;&#97;&#116;&#105;&#110;&#49;&#44;&#32;&#73;&#83;&#79;&#76;&#97;&#116;&#105;&#110;&#50;&#44;&#32;&#73;&#83;&#79;&#76;&#97;&#116;&#105;&#110;&#51;&#44;&#32;&#73;&#83;&#79;&#76;&#97;&#116;&#105;&#110;&#52;&#44;&#32;&#73;&#83;&#79;&#76;&#97;&#116;&#105;&#110;&#67;&#121;&#114;&#105;&#108;&#108;&#105;&#99;&#44;&#32;&#75;&#108;&#105;&#110;&#103;&#111;&#110;&#44;&#32;&#107;&#111;&#105;&#56;&#45;&#114;&#44;&#32;&#10;&#32;&#10;&#62;&#32;&#32;&#32;&#77;&#97;&#99;&#105;&#110;&#116;&#111;&#115;&#104;&#65;&#114;&#97;&#98;&#105;&#99;&#44;&#32;&#77;&#97;&#99;&#105;&#110;&#116;&#111;&#115;&#104;&#67;&#104;&#105;&#110;&#101;&#115;&#101;&#83;&#105;&#109;&#112;&#108;&#105;&#102;&#105;&#101;&#100;&#44;&#32;&#77;&#97;&#99;&#105;&#110;&#116;&#111;&#115;&#104;&#67;&#104;&#105;&#110;&#101;&#115;&#101;&#84;&#114;&#97;&#100;&#105;&#116;&#105;&#111;&#110;&#97;&#108;&#44;&#32;&#10;&#32;&#10;&#62;&#32;&#32;&#32;&#77;&#97;&#99;&#105;&#110;&#116;&#111;&#115;&#104;&#67;&#114;&#111;&#97;&#116;&#105;&#97;&#110;&#44;&#32;&#77;&#97;&#99;&#105;&#110;&#116;&#111;&#115;&#104;&#67;&#121;&#114;&#105;&#108;&#108;&#105;&#99;&#44;&#32;&#77;&#97;&#99;&#105;&#110;&#116;&#111;&#115;&#104;&#71;&#114;&#101;&#101;&#107;&#44;&#32;&#77;&#97;&#99;&#105;&#110;&#116;&#111;&#115;&#104;&#72;&#101;&#98;&#114;&#101;&#119;&#44;&#32;&#10;&#32;&#10;&#62;&#32;&#32;&#32;&#77;&#97;&#99;&#105;&#110;&#116;&#111;&#115;&#104;&#73;&#99;&#101;&#108;&#97;&#110;&#100;&#105;&#99;&#44;&#32;&#77;&#97;&#99;&#105;&#110;&#116;&#111;&#115;&#104;&#75;&#111;&#114;&#101;&#97;&#110;&#44;&#32;&#77;&#97;&#99;&#105;&#110;&#116;&#111;&#115;&#104;&#78;&#111;&#110;&#67;&#121;&#114;&#105;&#108;&#108;&#105;&#99;&#83;&#108;&#97;&#118;&#105;&#99;&#44;&#32;&#77;&#97;&#99;&#105;&#110;&#116;&#111;&#115;&#104;&#82;&#111;&#109;&#97;&#110;&#105;&#97;&#110;&#44;&#32;&#10;&#32;&#10;&#62;&#32;&#32;&#32;&#77;&#97;&#99;&#105;&#110;&#116;&#111;&#115;&#104;&#82;&#111;&#109;&#97;&#110;&#44;&#32;&#77;&#97;&#99;&#105;&#110;&#116;&#111;&#115;&#104;&#82;&#111;&#109;&#97;&#110;&#80;&#68;&#70;&#69;&#120;&#112;&#111;&#114;&#116;&#44;&#32;&#77;&#97;&#99;&#105;&#110;&#116;&#111;&#115;&#104;&#84;&#104;&#97;&#105;&#44;&#32;&#77;&#97;&#99;&#105;&#110;&#116;&#111;&#115;&#104;&#84;&#117;&#114;&#107;&#105;&#115;&#104;&#44;&#32;&#10;&#32;&#10;&#62;&#32;&#32;&#32;&#77;&#97;&#99;&#105;&#110;&#116;&#111;&#115;&#104;&#85;&#107;&#114;&#97;&#105;&#110;&#105;&#97;&#110;&#44;&#32;&#77;&#97;&#116;&#104;&#49;&#44;&#32;&#77;&#97;&#116;&#104;&#50;&#44;&#32;&#77;&#97;&#116;&#104;&#51;&#44;&#32;&#77;&#97;&#116;&#104;&#52;&#44;&#32;&#77;&#97;&#116;&#104;&#53;&#44;&#32;&#77;&#97;&#116;&#104;&#101;&#109;&#97;&#116;&#105;&#99;&#97;&#49;&#44;&#32;&#77;&#97;&#116;&#104;&#101;&#109;&#97;&#116;&#105;&#99;&#97;&#50;&#44;&#32;&#10;&#32;&#10;&#62;&#32;&#32;&#32;&#77;&#97;&#116;&#104;&#101;&#109;&#97;&#116;&#105;&#99;&#97;&#51;&#44;&#32;&#77;&#97;&#116;&#104;&#101;&#109;&#97;&#116;&#105;&#99;&#97;&#52;&#44;&#32;&#77;&#97;&#116;&#104;&#101;&#109;&#97;&#116;&#105;&#99;&#97;&#53;&#44;&#32;&#77;&#97;&#116;&#104;&#101;&#109;&#97;&#116;&#105;&#99;&#97;&#54;&#44;&#32;&#77;&#97;&#116;&#104;&#101;&#109;&#97;&#116;&#105;&#99;&#97;&#55;&#44;&#32;&#10;&#32;&#10;&#62;&#32;&#32;&#32;&#80;&#114;&#105;&#110;&#116;&#97;&#98;&#108;&#101;&#65;&#83;&#67;&#73;&#73;&#44;&#32;&#83;&#104;&#105;&#102;&#116;&#74;&#73;&#83;&#44;&#32;&#83;&#121;&#109;&#98;&#111;&#108;&#44;&#32;&#85;&#84;&#70;&#45;&#56;&#44;&#32;&#85;&#84;&#70;&#56;&#44;&#32;&#87;&#105;&#110;&#100;&#111;&#119;&#115;&#65;&#78;&#83;&#73;&#44;&#32;&#87;&#105;&#110;&#100;&#111;&#119;&#115;&#66;&#97;&#108;&#116;&#105;&#99;&#44;&#32;&#10;&#32;&#10;&#62;&#32;&#32;&#32;&#87;&#105;&#110;&#100;&#111;&#119;&#115;&#67;&#121;&#114;&#105;&#108;&#108;&#105;&#99;&#44;&#32;&#87;&#105;&#110;&#100;&#111;&#119;&#115;&#69;&#97;&#115;&#116;&#69;&#117;&#114;&#111;&#112;&#101;&#44;&#32;&#87;&#105;&#110;&#100;&#111;&#119;&#115;&#71;&#114;&#101;&#101;&#107;&#44;&#32;&#87;&#105;&#110;&#100;&#111;&#119;&#115;&#84;&#104;&#97;&#105;&#44;&#32;&#87;&#105;&#110;&#100;&#111;&#119;&#115;&#84;&#117;&#114;&#107;&#105;&#115;&#104;&#44;&#32;&#10;&#32;&#10;&#62;&#32;&#32;&#32;&#90;&#97;&#112;&#102;&#68;&#105;&#110;&#103;&#98;&#97;&#116;&#115;&#125;</pre></div>"
      ],
      "text/plain": [
       "{AdobeStandard, ASCII, CP936, CP949, CP950, EUC-JP, EUC, IBM-850, ISO8859-10, \n",
       " \n",
       ">   ISO8859-11, ISO8859-13, ISO8859-14, ISO8859-15, ISO8859-16, ISO8859-1, ISO8859-2, \n",
       " \n",
       ">   ISO8859-3, ISO8859-4, ISO8859-5, ISO8859-6, ISO8859-7, ISO8859-8, ISO8859-9, \n",
       " \n",
       ">   ISOLatin1, ISOLatin2, ISOLatin3, ISOLatin4, ISOLatinCyrillic, Klingon, koi8-r, \n",
       " \n",
       ">   MacintoshArabic, MacintoshChineseSimplified, MacintoshChineseTraditional, \n",
       " \n",
       ">   MacintoshCroatian, MacintoshCyrillic, MacintoshGreek, MacintoshHebrew, \n",
       " \n",
       ">   MacintoshIcelandic, MacintoshKorean, MacintoshNonCyrillicSlavic, MacintoshRomanian, \n",
       " \n",
       ">   MacintoshRoman, MacintoshRomanPDFExport, MacintoshThai, MacintoshTurkish, \n",
       " \n",
       ">   MacintoshUkrainian, Math1, Math2, Math3, Math4, Math5, Mathematica1, Mathematica2, \n",
       " \n",
       ">   Mathematica3, Mathematica4, Mathematica5, Mathematica6, Mathematica7, \n",
       " \n",
       ">   PrintableASCII, ShiftJIS, Symbol, UTF-8, UTF8, WindowsANSI, WindowsBaltic, \n",
       " \n",
       ">   WindowsCyrillic, WindowsEastEurope, WindowsGreek, WindowsThai, WindowsTurkish, \n",
       " \n",
       ">   ZapfDingbats}"
      ]
     },
     "execution_count": 34,
     "metadata": {
      "text/html": [],
      "text/plain": []
     },
     "output_type": "execute_result"
    }
   ],
   "source": [
    "$CharacterEncodings"
   ]
  },
  {
   "cell_type": "code",
   "execution_count": 52,
   "id": "fda3af19-ef84-4cc7-8eee-5f1efc617753",
   "metadata": {},
   "outputs": [
    {
     "name": "stdout",
     "output_type": "stream",
     "text": [
      "\\:4e2d\\:6587\n"
     ]
    },
    {
     "data": {
      "text/html": [
       "<div><img alt=\"Output\" src=\"data:image/png;base64,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\"></div>"
      ],
      "text/plain": [
       "(Charset -> UTF8)[Null]"
      ]
     },
     "execution_count": 52,
     "metadata": {
      "text/html": [],
      "text/plain": []
     },
     "output_type": "execute_result"
    }
   ],
   "source": [
    "Print[\"中文\"]//Charset->UTF8"
   ]
  },
  {
   "cell_type": "code",
   "execution_count": 39,
   "id": "e4e626d4-1eed-49c6-95f3-996b40e195fc",
   "metadata": {},
   "outputs": [
    {
     "name": "stdout",
     "output_type": "stream",
     "text": [
      "Null\n"
     ]
    }
   ],
   "source": [
    "Export[file, \"\\[Alpha]=45\\[Degree]\", \"Text\", \n",
    " CharacterEncoding -> \"UTF8\"]"
   ]
  },
  {
   "cell_type": "code",
   "execution_count": 35,
   "id": "09b10b14-ee4f-4af8-bd70-0fe10ef947f6",
   "metadata": {},
   "outputs": [
    {
     "data": {
      "text/html": [
       "<div><pre style=\"&#102;&#111;&#110;&#116;&#45;&#102;&#97;&#109;&#105;&#108;&#121;&#58;&#32;&#34;&#67;&#111;&#117;&#114;&#105;&#101;&#114;&#32;&#78;&#101;&#119;&#34;&#44;&#67;&#111;&#117;&#114;&#105;&#101;&#114;&#44;&#109;&#111;&#110;&#111;&#115;&#112;&#97;&#99;&#101;&#59;\">&#85;&#84;&#70;&#45;&#56;</pre></div>"
      ],
      "text/plain": [
       "UTF-8"
      ]
     },
     "execution_count": 35,
     "metadata": {
      "text/html": [],
      "text/plain": []
     },
     "output_type": "execute_result"
    }
   ],
   "source": [
    "$SystemCharacterEncoding"
   ]
  },
  {
   "cell_type": "code",
   "execution_count": 48,
   "id": "eca64e22-6f40-47e4-8760-2f7114d86b8a",
   "metadata": {},
   "outputs": [
    {
     "data": {
      "text/html": [
       "<div><img alt=\"Output\" src=\"data:image/png;base64,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\"></div>"
      ],
      "text/plain": [
       "Input interpretation"
      ]
     },
     "execution_count": 48,
     "metadata": {
      "text/html": [],
      "text/plain": []
     },
     "output_type": "execute_result"
    }
   ],
   "source": [
    "Input interpretation"
   ]
  },
  {
   "cell_type": "code",
   "execution_count": 54,
   "id": "6ba22c00-fe01-41a3-bc8f-f733fbc80b78",
   "metadata": {},
   "outputs": [
    {
     "data": {
      "text/html": [
       "<div><img alt=\"Output\" src=\"data:image/png;base64,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\"></div>"
      ],
      "text/plain": [
       "-Graphics-"
      ]
     },
     "execution_count": 54,
     "metadata": {
      "text/html": [],
      "text/plain": []
     },
     "output_type": "execute_result"
    }
   ],
   "source": [
    "ListPlot[ToCharacterCode[\"这是中文字符串\"], Filling -> Axis]"
   ]
  },
  {
   "cell_type": "code",
   "execution_count": 62,
   "id": "7ede2828-0dd3-4a76-8277-1e1de363abca",
   "metadata": {},
   "outputs": [
    {
     "name": "stdout",
     "output_type": "stream",
     "text": [
      ">> \\\\:603b\\\\:8ba1 2\n"
     ]
    },
    {
     "data": {
      "text/html": [
       "<div><pre style=\"&#102;&#111;&#110;&#116;&#45;&#102;&#97;&#109;&#105;&#108;&#121;&#58;&#32;&#34;&#67;&#111;&#117;&#114;&#105;&#101;&#114;&#32;&#78;&#101;&#119;&#34;&#44;&#67;&#111;&#117;&#114;&#105;&#101;&#114;&#44;&#109;&#111;&#110;&#111;&#115;&#112;&#97;&#99;&#101;&#59;\">&#50;</pre></div>"
      ],
      "text/plain": [
       "2"
      ]
     },
     "execution_count": 62,
     "metadata": {
      "text/html": [],
      "text/plain": []
     },
     "output_type": "execute_result"
    }
   ],
   "source": [
    "Echo[1 + 1, \"\\总\\计\"]"
   ]
  },
  {
   "cell_type": "code",
   "execution_count": 56,
   "id": "a74a122c-8060-457a-80ae-cdc4e5fc95e4",
   "metadata": {},
   "outputs": [
    {
     "name": "stdout",
     "output_type": "stream",
     "text": [
      ">> \\:4e2d\\:6587\n"
     ]
    },
    {
     "data": {
      "text/html": [
       "<div><pre style=\"&#102;&#111;&#110;&#116;&#45;&#102;&#97;&#109;&#105;&#108;&#121;&#58;&#32;&#34;&#67;&#111;&#117;&#114;&#105;&#101;&#114;&#32;&#78;&#101;&#119;&#34;&#44;&#67;&#111;&#117;&#114;&#105;&#101;&#114;&#44;&#109;&#111;&#110;&#111;&#115;&#112;&#97;&#99;&#101;&#59;\">&#20013;&#25991;</pre></div>"
      ],
      "text/plain": [
       "中文"
      ]
     },
     "execution_count": 56,
     "metadata": {
      "text/html": [],
      "text/plain": []
     },
     "output_type": "execute_result"
    }
   ],
   "source": [
    "Echo[\"中文\"]"
   ]
  },
  {
   "cell_type": "code",
   "execution_count": 63,
   "id": "167f8c51-973c-4f63-95b3-ac4eafc77415",
   "metadata": {},
   "outputs": [
    {
     "name": "stdout",
     "output_type": "stream",
     "text": [
      "a~\\201\\223a~\\202\\223a~\\201<<a~\\201\\[DownExclamation]a~\\201\\257a\",\\226c,\\225\\2\\\n",
      " \n",
      ">   14\n"
     ]
    }
   ],
   "source": [
    "string = \"ããã«ã¡ã¯ä¸ç\";\n",
    "Print[string]"
   ]
  },
  {
   "cell_type": "code",
   "execution_count": 80,
   "id": "3387a870-6aa3-4675-a27f-83d0150209ff",
   "metadata": {},
   "outputs": [
    {
     "data": {
      "text/html": [
       "<div><pre style=\"&#102;&#111;&#110;&#116;&#45;&#102;&#97;&#109;&#105;&#108;&#121;&#58;&#32;&#34;&#67;&#111;&#117;&#114;&#105;&#101;&#114;&#32;&#78;&#101;&#119;&#34;&#44;&#67;&#111;&#117;&#114;&#105;&#101;&#114;&#44;&#109;&#111;&#110;&#111;&#115;&#112;&#97;&#99;&#101;&#59;\">&#67;&#104;&#105;&#110;&#101;&#115;&#101;&#83;&#105;&#109;&#112;&#108;&#105;&#102;&#105;&#101;&#100;</pre></div>"
      ],
      "text/plain": [
       "ChineseSimplified"
      ]
     },
     "execution_count": 80,
     "metadata": {
      "text/html": [],
      "text/plain": []
     },
     "output_type": "execute_result"
    }
   ],
   "source": [
    "$Language=\"ChineseSimplified\""
   ]
  },
  {
   "cell_type": "code",
   "execution_count": 81,
   "id": "b03d9390-30e8-487c-bd85-4181add8049a",
   "metadata": {},
   "outputs": [
    {
     "name": "stdout",
     "output_type": "stream",
     "text": [
      "\\:4e2d\\:6587\n"
     ]
    }
   ],
   "source": [
    "Print[\"中文\"]"
   ]
  },
  {
   "cell_type": "code",
   "execution_count": 71,
   "id": "2f75e22c-40f0-45dc-ad1c-c6b672d1b1ce",
   "metadata": {},
   "outputs": [
    {
     "data": {
      "text/html": [
       "<div><pre style=\"&#102;&#111;&#110;&#116;&#45;&#102;&#97;&#109;&#105;&#108;&#121;&#58;&#32;&#34;&#67;&#111;&#117;&#114;&#105;&#101;&#114;&#32;&#78;&#101;&#119;&#34;&#44;&#67;&#111;&#117;&#114;&#105;&#101;&#114;&#44;&#109;&#111;&#110;&#111;&#115;&#112;&#97;&#99;&#101;&#59;\">&#67;&#104;&#105;&#110;&#101;&#115;&#101;&#83;&#105;&#109;&#112;&#108;&#105;&#102;&#105;&#101;&#100;</pre></div>"
      ],
      "text/plain": [
       "ChineseSimplified"
      ]
     },
     "execution_count": 71,
     "metadata": {
      "text/html": [],
      "text/plain": []
     },
     "output_type": "execute_result"
    }
   ],
   "source": [
    "$Language"
   ]
  },
  {
   "cell_type": "code",
   "execution_count": 78,
   "id": "3bf8277b-333a-4fb0-a6f5-dec296095bc7",
   "metadata": {},
   "outputs": [
    {
     "name": "stdout",
     "output_type": "stream",
     "text": [
      "\\:4e2d\\:6587\n"
     ]
    }
   ],
   "source": [
    "Print[\"中文\"]"
   ]
  },
  {
   "cell_type": "code",
   "execution_count": null,
   "id": "a636abcb-f1c9-40fb-aa14-3b650168636f",
   "metadata": {},
   "outputs": [],
   "source": []
  },
  {
   "cell_type": "code",
   "execution_count": 82,
   "id": "15bbd918-ad0f-4599-9934-298744d279ca",
   "metadata": {},
   "outputs": [
    {
     "data": {
      "text/html": [
       "<div><pre style=\"&#102;&#111;&#110;&#116;&#45;&#102;&#97;&#109;&#105;&#108;&#121;&#58;&#32;&#34;&#67;&#111;&#117;&#114;&#105;&#101;&#114;&#32;&#78;&#101;&#119;&#34;&#44;&#67;&#111;&#117;&#114;&#105;&#101;&#114;&#44;&#109;&#111;&#110;&#111;&#115;&#112;&#97;&#99;&#101;&#59;\">&#67;&#80;&#57;&#51;&#54;</pre></div>"
      ],
      "text/plain": [
       "CP936"
      ]
     },
     "execution_count": 82,
     "metadata": {
      "text/html": [],
      "text/plain": []
     },
     "output_type": "execute_result"
    }
   ],
   "source": [
    "$CharacterEncoding=\"CP936\""
   ]
  },
  {
   "cell_type": "code",
   "execution_count": 91,
   "id": "5233150c-32f6-4ccc-a08f-da4a0f0abf64",
   "metadata": {},
   "outputs": [
    {
     "name": "stdout",
     "output_type": "stream",
     "text": [
      "--\\:f2e4\\:f2b8\\:f2ad\\:f2e6\\:f296\\:f287--\n"
     ]
    }
   ],
   "source": [
    "Print[FromCharacterCode[ToCharacterCode[\"--中文--\", \"UTF8\"], \"ASCII\"]]"
   ]
  },
  {
   "cell_type": "code",
   "execution_count": null,
   "id": "92f7c518-abac-43a5-a2b0-f3eae5885809",
   "metadata": {},
   "outputs": [],
   "source": []
  }
 ],
 "metadata": {
  "kernelspec": {
   "display_name": "Wolfram Language 12.3",
   "language": "Wolfram Language",
   "name": "wolframlanguage12.3"
  },
  "language_info": {
   "codemirror_mode": "mathematica",
   "file_extension": ".m",
   "mimetype": "application/vnd.wolfram.m",
   "name": "Wolfram Language",
   "pygments_lexer": "mathematica",
   "version": "12.0"
  },
  "widgets": {
   "application/vnd.jupyter.widget-state+json": {
    "state": {},
    "version_major": 2,
    "version_minor": 0
   }
  }
 },
 "nbformat": 4,
 "nbformat_minor": 5
}
