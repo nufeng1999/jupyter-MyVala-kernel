{
 "cells": [
  {
   "cell_type": "code",
   "execution_count": 3,
   "id": "705ae21f",
   "metadata": {},
   "outputs": [
    {
     "name": "stdout",
     "output_type": "stream",
     "text": [
      "Generating executable file\n"
     ]
    },
    {
     "data": {
      "text/plain": [
       "Hello World~~0.12/n"
      ]
     },
     "metadata": {
      "text/plain": {}
     },
     "output_type": "display_data"
    }
   ],
   "source": [
    "// %kcmd:list\n",
    "//%log:0\n",
    "public class Main{ \n",
    "\tpublic static int main (string[] args) { \n",
    "\t\tprint(\"Hello World~~0.12/n\"); \n",
    "\t\treturn 0; \n",
    "\t}\n",
    "}"
   ]
  },
  {
   "cell_type": "code",
   "execution_count": null,
   "id": "43a72974",
   "metadata": {},
   "outputs": [],
   "source": []
  }
 ],
 "metadata": {
  "kernelspec": {
   "display_name": "MyVala",
   "language": "vala",
   "name": "myvala"
  },
  "language_info": {
   "file_extension": ".vala",
   "mimetype": "text/vala",
   "name": "text/vala"
  },
  "widgets": {
   "application/vnd.jupyter.widget-state+json": {
    "state": {},
    "version_major": 2,
    "version_minor": 0
   }
  }
 },
 "nbformat": 4,
 "nbformat_minor": 5
}
